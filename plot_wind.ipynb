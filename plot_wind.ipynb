{
 "cells": [
  {
   "cell_type": "code",
   "execution_count": 1,
   "metadata": {},
   "outputs": [],
   "source": [
    "with open(\"wind.log\", \"r\") as fin:\n",
    "    data = fin.readlines()"
   ]
  },
  {
   "cell_type": "code",
   "execution_count": 12,
   "metadata": {},
   "outputs": [
    {
     "name": "stdout",
     "output_type": "stream",
     "text": [
      "['', '035681100988126537.586499395757273e-05']\n",
      "['', '08488284844035565.712836535962253e-05']\n"
     ]
    }
   ],
   "source": [
    "clean_data = []\n",
    "for d in data:\n",
    "    if len(d) <2:\n",
    "        continue\n",
    "    d = d.replace(\"\\n\", \"\")\n",
    "    d = d.split(\"0.\")\n",
    "    for t in d[1:]:\n",
    "        try:\n",
    "            clean_data.append(float(f\"0.{t}\"))\n",
    "        except:\n",
    "            print(d)\n",
    "            # raise Exception"
   ]
  },
  {
   "cell_type": "code",
   "execution_count": 13,
   "metadata": {},
   "outputs": [
    {
     "name": "stdout",
     "output_type": "stream",
     "text": [
      "3998632\n"
     ]
    }
   ],
   "source": [
    "print(len(clean_data))"
   ]
  },
  {
   "cell_type": "code",
   "execution_count": 16,
   "metadata": {},
   "outputs": [
    {
     "data": {
      "text/plain": [
       "(array([2000.,    0.,  719., ...,    2.,    0.,    2.]),\n",
       " array([0.00000000e+00, 4.91096168e-05, 9.82192335e-05, ...,\n",
       "        1.65106532e-01, 1.65155641e-01, 1.65204751e-01]),\n",
       " <BarContainer object of 3364 artists>)"
      ]
     },
     "execution_count": 16,
     "metadata": {},
     "output_type": "execute_result"
    },
    {
     "data": {
      "image/png": "[encoded data removed]",
      "text/plain": [
       "<Figure size 432x288 with 1 Axes>"
      ]
     },
     "metadata": {
      "needs_background": "light"
     },
     "output_type": "display_data"
    }
   ],
   "source": [
    "import matplotlib.pyplot as plt\n",
    "plt.hist(clean_data, bins='auto')"
   ]
  },
  {
   "cell_type": "code",
   "execution_count": null,
   "metadata": {},
   "outputs": [],
   "source": []
  }
 ],
 "metadata": {
  "interpreter": {
   "hash": "cc806a728f5d58a954d68089fdd761021333b647adfbb9a00ca36739beb4a050"
  },
  "kernelspec": {
   "display_name": "Python 3.8.1 64-bit ('dist': pyenv)",
   "language": "python",
   "name": "python3"
  },
  "language_info": {
   "codemirror_mode": {
    "name": "ipython",
    "version": 3
   },
   "file_extension": ".py",
   "mimetype": "text/x-python",
   "name": "python",
   "nbconvert_exporter": "python",
   "pygments_lexer": "ipython3",
   "version": "3.8.1"
  },
  "orig_nbformat": 4
 },
 "nbformat": 4,
 "nbformat_minor": 2
}
